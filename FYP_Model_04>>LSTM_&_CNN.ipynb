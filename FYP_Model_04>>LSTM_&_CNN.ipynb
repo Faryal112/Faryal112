{
  "nbformat": 4,
  "nbformat_minor": 0,
  "metadata": {
    "colab": {
      "provenance": [],
      "gpuType": "T4",
      "authorship_tag": "ABX9TyOkQaqiXmb/JgqLaWW3mfY0",
      "include_colab_link": true
    },
    "kernelspec": {
      "name": "python3",
      "display_name": "Python 3"
    },
    "language_info": {
      "name": "python"
    },
    "accelerator": "GPU"
  },
  "cells": [
    {
      "cell_type": "markdown",
      "metadata": {
        "id": "view-in-github",
        "colab_type": "text"
      },
      "source": [
        "<a href=\"https://colab.research.google.com/github/Faryal112/Faryal112/blob/main/FYP_Model_04%3E%3ELSTM_%26_CNN.ipynb\" target=\"_parent\"><img src=\"https://colab.research.google.com/assets/colab-badge.svg\" alt=\"Open In Colab\"/></a>"
      ]
    },
    {
      "cell_type": "code",
      "execution_count": 1,
      "metadata": {
        "id": "DygKuXtlBYOL"
      },
      "outputs": [],
      "source": [
        "# Import necessary libraries\n",
        "import pandas as pd\n",
        "import numpy as np\n",
        "import tensorflow as tf\n",
        "from tensorflow.keras.models import Sequential\n",
        "from tensorflow.keras.layers import Conv1D, MaxPooling1D, Flatten, LSTM, Dense, Dropout\n",
        "from sklearn.model_selection import train_test_split\n",
        "from sklearn.preprocessing import StandardScaler\n",
        "from sklearn.metrics import accuracy_score, classification_report\n"
      ]
    },
    {
      "cell_type": "code",
      "source": [
        "from google.colab import files\n",
        "uploaded = files.upload()\n"
      ],
      "metadata": {
        "colab": {
          "base_uri": "https://localhost:8080/",
          "height": 73
        },
        "id": "IUUAotvUB0q5",
        "outputId": "98248b07-87b0-4474-c0a0-7c805772c97e"
      },
      "execution_count": 3,
      "outputs": [
        {
          "output_type": "display_data",
          "data": {
            "text/plain": [
              "<IPython.core.display.HTML object>"
            ],
            "text/html": [
              "\n",
              "     <input type=\"file\" id=\"files-e9d6ee4a-8f9a-444c-9a55-2cb00dff5d8b\" name=\"files[]\" multiple disabled\n",
              "        style=\"border:none\" />\n",
              "     <output id=\"result-e9d6ee4a-8f9a-444c-9a55-2cb00dff5d8b\">\n",
              "      Upload widget is only available when the cell has been executed in the\n",
              "      current browser session. Please rerun this cell to enable.\n",
              "      </output>\n",
              "      <script>// Copyright 2017 Google LLC\n",
              "//\n",
              "// Licensed under the Apache License, Version 2.0 (the \"License\");\n",
              "// you may not use this file except in compliance with the License.\n",
              "// You may obtain a copy of the License at\n",
              "//\n",
              "//      http://www.apache.org/licenses/LICENSE-2.0\n",
              "//\n",
              "// Unless required by applicable law or agreed to in writing, software\n",
              "// distributed under the License is distributed on an \"AS IS\" BASIS,\n",
              "// WITHOUT WARRANTIES OR CONDITIONS OF ANY KIND, either express or implied.\n",
              "// See the License for the specific language governing permissions and\n",
              "// limitations under the License.\n",
              "\n",
              "/**\n",
              " * @fileoverview Helpers for google.colab Python module.\n",
              " */\n",
              "(function(scope) {\n",
              "function span(text, styleAttributes = {}) {\n",
              "  const element = document.createElement('span');\n",
              "  element.textContent = text;\n",
              "  for (const key of Object.keys(styleAttributes)) {\n",
              "    element.style[key] = styleAttributes[key];\n",
              "  }\n",
              "  return element;\n",
              "}\n",
              "\n",
              "// Max number of bytes which will be uploaded at a time.\n",
              "const MAX_PAYLOAD_SIZE = 100 * 1024;\n",
              "\n",
              "function _uploadFiles(inputId, outputId) {\n",
              "  const steps = uploadFilesStep(inputId, outputId);\n",
              "  const outputElement = document.getElementById(outputId);\n",
              "  // Cache steps on the outputElement to make it available for the next call\n",
              "  // to uploadFilesContinue from Python.\n",
              "  outputElement.steps = steps;\n",
              "\n",
              "  return _uploadFilesContinue(outputId);\n",
              "}\n",
              "\n",
              "// This is roughly an async generator (not supported in the browser yet),\n",
              "// where there are multiple asynchronous steps and the Python side is going\n",
              "// to poll for completion of each step.\n",
              "// This uses a Promise to block the python side on completion of each step,\n",
              "// then passes the result of the previous step as the input to the next step.\n",
              "function _uploadFilesContinue(outputId) {\n",
              "  const outputElement = document.getElementById(outputId);\n",
              "  const steps = outputElement.steps;\n",
              "\n",
              "  const next = steps.next(outputElement.lastPromiseValue);\n",
              "  return Promise.resolve(next.value.promise).then((value) => {\n",
              "    // Cache the last promise value to make it available to the next\n",
              "    // step of the generator.\n",
              "    outputElement.lastPromiseValue = value;\n",
              "    return next.value.response;\n",
              "  });\n",
              "}\n",
              "\n",
              "/**\n",
              " * Generator function which is called between each async step of the upload\n",
              " * process.\n",
              " * @param {string} inputId Element ID of the input file picker element.\n",
              " * @param {string} outputId Element ID of the output display.\n",
              " * @return {!Iterable<!Object>} Iterable of next steps.\n",
              " */\n",
              "function* uploadFilesStep(inputId, outputId) {\n",
              "  const inputElement = document.getElementById(inputId);\n",
              "  inputElement.disabled = false;\n",
              "\n",
              "  const outputElement = document.getElementById(outputId);\n",
              "  outputElement.innerHTML = '';\n",
              "\n",
              "  const pickedPromise = new Promise((resolve) => {\n",
              "    inputElement.addEventListener('change', (e) => {\n",
              "      resolve(e.target.files);\n",
              "    });\n",
              "  });\n",
              "\n",
              "  const cancel = document.createElement('button');\n",
              "  inputElement.parentElement.appendChild(cancel);\n",
              "  cancel.textContent = 'Cancel upload';\n",
              "  const cancelPromise = new Promise((resolve) => {\n",
              "    cancel.onclick = () => {\n",
              "      resolve(null);\n",
              "    };\n",
              "  });\n",
              "\n",
              "  // Wait for the user to pick the files.\n",
              "  const files = yield {\n",
              "    promise: Promise.race([pickedPromise, cancelPromise]),\n",
              "    response: {\n",
              "      action: 'starting',\n",
              "    }\n",
              "  };\n",
              "\n",
              "  cancel.remove();\n",
              "\n",
              "  // Disable the input element since further picks are not allowed.\n",
              "  inputElement.disabled = true;\n",
              "\n",
              "  if (!files) {\n",
              "    return {\n",
              "      response: {\n",
              "        action: 'complete',\n",
              "      }\n",
              "    };\n",
              "  }\n",
              "\n",
              "  for (const file of files) {\n",
              "    const li = document.createElement('li');\n",
              "    li.append(span(file.name, {fontWeight: 'bold'}));\n",
              "    li.append(span(\n",
              "        `(${file.type || 'n/a'}) - ${file.size} bytes, ` +\n",
              "        `last modified: ${\n",
              "            file.lastModifiedDate ? file.lastModifiedDate.toLocaleDateString() :\n",
              "                                    'n/a'} - `));\n",
              "    const percent = span('0% done');\n",
              "    li.appendChild(percent);\n",
              "\n",
              "    outputElement.appendChild(li);\n",
              "\n",
              "    const fileDataPromise = new Promise((resolve) => {\n",
              "      const reader = new FileReader();\n",
              "      reader.onload = (e) => {\n",
              "        resolve(e.target.result);\n",
              "      };\n",
              "      reader.readAsArrayBuffer(file);\n",
              "    });\n",
              "    // Wait for the data to be ready.\n",
              "    let fileData = yield {\n",
              "      promise: fileDataPromise,\n",
              "      response: {\n",
              "        action: 'continue',\n",
              "      }\n",
              "    };\n",
              "\n",
              "    // Use a chunked sending to avoid message size limits. See b/62115660.\n",
              "    let position = 0;\n",
              "    do {\n",
              "      const length = Math.min(fileData.byteLength - position, MAX_PAYLOAD_SIZE);\n",
              "      const chunk = new Uint8Array(fileData, position, length);\n",
              "      position += length;\n",
              "\n",
              "      const base64 = btoa(String.fromCharCode.apply(null, chunk));\n",
              "      yield {\n",
              "        response: {\n",
              "          action: 'append',\n",
              "          file: file.name,\n",
              "          data: base64,\n",
              "        },\n",
              "      };\n",
              "\n",
              "      let percentDone = fileData.byteLength === 0 ?\n",
              "          100 :\n",
              "          Math.round((position / fileData.byteLength) * 100);\n",
              "      percent.textContent = `${percentDone}% done`;\n",
              "\n",
              "    } while (position < fileData.byteLength);\n",
              "  }\n",
              "\n",
              "  // All done.\n",
              "  yield {\n",
              "    response: {\n",
              "      action: 'complete',\n",
              "    }\n",
              "  };\n",
              "}\n",
              "\n",
              "scope.google = scope.google || {};\n",
              "scope.google.colab = scope.google.colab || {};\n",
              "scope.google.colab._files = {\n",
              "  _uploadFiles,\n",
              "  _uploadFilesContinue,\n",
              "};\n",
              "})(self);\n",
              "</script> "
            ]
          },
          "metadata": {}
        },
        {
          "output_type": "stream",
          "name": "stdout",
          "text": [
            "Saving data_stream-oper.csv to data_stream-oper.csv\n"
          ]
        }
      ]
    },
    {
      "cell_type": "code",
      "source": [
        "# Load the dataset (update path if needed)\n",
        "data = pd.read_csv('/content/data_stream-oper.csv')\n",
        "\n",
        "# Drop columns with all NaN values\n",
        "data = data.dropna(axis=1, how='all')\n",
        "\n",
        "# Display the first few rows to understand the data\n",
        "print(data.head())\n",
        "print(data.info())\n"
      ],
      "metadata": {
        "colab": {
          "base_uri": "https://localhost:8080/"
        },
        "id": "q27WBw4JCjb9",
        "outputId": "aad0f0d1-5a07-4524-d0b6-1be092f0e532"
      },
      "execution_count": 5,
      "outputs": [
        {
          "output_type": "stream",
          "name": "stdout",
          "text": [
            "            valid_time  latitude  longitude  number  expver       u10  \\\n",
            "0  2020-05-01 00:00:00      36.0      70.83       0       1 -0.236581   \n",
            "1  2020-05-01 00:00:00      36.0      71.08       0       1 -0.091348   \n",
            "2  2020-05-01 00:00:00      36.0      71.33       0       1  0.447348   \n",
            "3  2020-05-01 00:00:00      36.0      71.58       0       1  0.364432   \n",
            "4  2020-05-01 00:00:00      36.0      71.83       0       1 -0.109628   \n",
            "\n",
            "        v10        sp       hcc       lcc  ...   p90.162   p88.162  p89.162  \\\n",
            "0  0.635636  61000.68  0.998981  0.059074  ...  0.446365  0.000939  0.00145   \n",
            "1  0.342240  59817.18  0.998553  0.007935  ...  0.402031  0.000275  0.00145   \n",
            "2 -0.264296  61669.18  0.996925  0.009781  ...  0.397300  0.000275  0.00145   \n",
            "3 -0.623305  65727.43  0.999996  0.003407  ...  0.465660  0.000275  0.00145   \n",
            "4 -0.731063  67074.18  1.000000  0.000000  ...  0.548210  0.000275  0.00145   \n",
            "\n",
            "       licd          lmld       ltlt        tsn  slt         vithe    lai_hv  \n",
            "0  1.317443 -7.105431e-15  273.15967  266.32410  3.0  1.477447e+09  0.000163  \n",
            "1  1.341979 -7.105431e-15  273.15967  266.13635  3.0  1.450250e+09  0.120219  \n",
            "2  1.086882  3.203369e+00  273.78130  267.01025  3.0  1.500389e+09  0.574809  \n",
            "3  0.594237  1.187085e+01  275.10840  268.76514  3.0  1.607446e+09  1.198344  \n",
            "4  0.531249  1.522217e+01  274.50910  268.75280  3.0  1.647341e+09  1.583781  \n",
            "\n",
            "[5 rows x 24 columns]\n",
            "<class 'pandas.core.frame.DataFrame'>\n",
            "RangeIndex: 23350 entries, 0 to 23349\n",
            "Data columns (total 24 columns):\n",
            " #   Column      Non-Null Count  Dtype  \n",
            "---  ------      --------------  -----  \n",
            " 0   valid_time  23350 non-null  object \n",
            " 1   latitude    23350 non-null  float64\n",
            " 2   longitude   23350 non-null  float64\n",
            " 3   number      23350 non-null  int64  \n",
            " 4   expver      23350 non-null  int64  \n",
            " 5   u10         23350 non-null  float64\n",
            " 6   v10         23350 non-null  float64\n",
            " 7   sp          23350 non-null  float64\n",
            " 8   hcc         23350 non-null  float64\n",
            " 9   lcc         23350 non-null  float64\n",
            " 10  mcc         23350 non-null  float64\n",
            " 11  tcc         23350 non-null  float64\n",
            " 12  tciw        23350 non-null  float64\n",
            " 13  tclw        23350 non-null  float64\n",
            " 14  p90.162     23350 non-null  float64\n",
            " 15  p88.162     23350 non-null  float64\n",
            " 16  p89.162     23350 non-null  float64\n",
            " 17  licd        23350 non-null  float64\n",
            " 18  lmld        23350 non-null  float64\n",
            " 19  ltlt        23350 non-null  float64\n",
            " 20  tsn         23350 non-null  float64\n",
            " 21  slt         23350 non-null  float64\n",
            " 22  vithe       23350 non-null  float64\n",
            " 23  lai_hv      23350 non-null  float64\n",
            "dtypes: float64(21), int64(2), object(1)\n",
            "memory usage: 4.3+ MB\n",
            "None\n"
          ]
        }
      ]
    },
    {
      "cell_type": "code",
      "source": [
        "# For illustration: creating a random target column as 'cloud_burst'\n",
        "# Replace this logic with real criteria if available\n",
        "np.random.seed(42)\n",
        "data['cloud_burst'] = np.random.randint(0, 2, data.shape[0])\n",
        "\n",
        "# Drop irrelevant columns like 'valid_time' and any others not needed\n",
        "data = data.drop(columns=['valid_time', 'sst'], errors='ignore')\n",
        "\n",
        "# Define X and y\n",
        "X = data.drop(columns=['cloud_burst'])\n",
        "y = data['cloud_burst']\n"
      ],
      "metadata": {
        "id": "OiNcL0H-C2HX"
      },
      "execution_count": 6,
      "outputs": []
    },
    {
      "cell_type": "code",
      "source": [
        "# Split into training and testing sets\n",
        "X_train, X_test, y_train, y_test = train_test_split(X, y, test_size=0.2, random_state=42)\n"
      ],
      "metadata": {
        "id": "uSi2aLt2C5wy"
      },
      "execution_count": 7,
      "outputs": []
    },
    {
      "cell_type": "code",
      "source": [
        "# Scale the data\n",
        "scaler = StandardScaler()\n",
        "X_train = scaler.fit_transform(X_train)\n",
        "X_test = scaler.transform(X_test)\n"
      ],
      "metadata": {
        "id": "NTwKzo9xCQI9"
      },
      "execution_count": 8,
      "outputs": []
    },
    {
      "cell_type": "code",
      "source": [
        "# Reshape input data to fit CNN-LSTM model (samples, time steps, features)\n",
        "time_steps = 1  # Adjust as needed based on temporal resolution\n",
        "# Calculate n_features such that the reshape operation is valid\n",
        "n_features = X_train.shape[1]\n",
        "# You can adjust time_steps to any factor of n_features.\n",
        "# For e.g. time_steps=23 and n_features=1 will work\n",
        "\n",
        "X_train = X_train.reshape((X_train.shape[0], time_steps, n_features))\n",
        "X_test = X_test.reshape((X_test.shape[0], time_steps, n_features))"
      ],
      "metadata": {
        "id": "WNDYUpneDGzb"
      },
      "execution_count": 10,
      "outputs": []
    },
    {
      "cell_type": "code",
      "source": [
        "# Define CNN-LSTM model\n",
        "model = Sequential([\n",
        "    Conv1D(filters=64, kernel_size=1, activation='relu', input_shape=(time_steps, n_features)),\n",
        "    MaxPooling1D(pool_size=1),\n",
        "    # Remove Flatten() layer\n",
        "    LSTM(50, return_sequences=True),  # This LSTM now receives 3D output from MaxPooling1D\n",
        "    Dropout(0.2),\n",
        "    LSTM(50),\n",
        "    Dropout(0.2),\n",
        "    Dense(50, activation='relu'),\n",
        "    Dense(1, activation='sigmoid')\n",
        "])\n",
        "\n",
        "# Compile the model\n",
        "model.compile(optimizer='adam', loss='binary_crossentropy', metrics=['accuracy'])"
      ],
      "metadata": {
        "colab": {
          "base_uri": "https://localhost:8080/"
        },
        "id": "EwvjBv1pDZm1",
        "outputId": "86d12d89-abe5-434e-8cff-5d983618e493"
      },
      "execution_count": 13,
      "outputs": [
        {
          "output_type": "stream",
          "name": "stderr",
          "text": [
            "/usr/local/lib/python3.10/dist-packages/keras/src/layers/convolutional/base_conv.py:107: UserWarning: Do not pass an `input_shape`/`input_dim` argument to a layer. When using Sequential models, prefer using an `Input(shape)` object as the first layer in the model instead.\n",
            "  super().__init__(activity_regularizer=activity_regularizer, **kwargs)\n"
          ]
        }
      ]
    },
    {
      "cell_type": "code",
      "source": [
        "# Train the model\n",
        "history = model.fit(X_train, y_train, epochs=10, batch_size=32, validation_split=0.2)\n"
      ],
      "metadata": {
        "colab": {
          "base_uri": "https://localhost:8080/"
        },
        "id": "A1horQXFD9hr",
        "outputId": "4a3a4479-1da3-48f1-8d2a-da41b076dc6d"
      },
      "execution_count": 14,
      "outputs": [
        {
          "output_type": "stream",
          "name": "stdout",
          "text": [
            "Epoch 1/10\n",
            "\u001b[1m467/467\u001b[0m \u001b[32m━━━━━━━━━━━━━━━━━━━━\u001b[0m\u001b[37m\u001b[0m \u001b[1m10s\u001b[0m 7ms/step - accuracy: 0.5083 - loss: 0.6933 - val_accuracy: 0.5040 - val_loss: 0.6931\n",
            "Epoch 2/10\n",
            "\u001b[1m467/467\u001b[0m \u001b[32m━━━━━━━━━━━━━━━━━━━━\u001b[0m\u001b[37m\u001b[0m \u001b[1m6s\u001b[0m 6ms/step - accuracy: 0.5100 - loss: 0.6931 - val_accuracy: 0.4981 - val_loss: 0.6936\n",
            "Epoch 3/10\n",
            "\u001b[1m467/467\u001b[0m \u001b[32m━━━━━━━━━━━━━━━━━━━━\u001b[0m\u001b[37m\u001b[0m \u001b[1m5s\u001b[0m 7ms/step - accuracy: 0.5145 - loss: 0.6929 - val_accuracy: 0.5094 - val_loss: 0.6933\n",
            "Epoch 4/10\n",
            "\u001b[1m467/467\u001b[0m \u001b[32m━━━━━━━━━━━━━━━━━━━━\u001b[0m\u001b[37m\u001b[0m \u001b[1m5s\u001b[0m 6ms/step - accuracy: 0.5132 - loss: 0.6927 - val_accuracy: 0.5032 - val_loss: 0.6935\n",
            "Epoch 5/10\n",
            "\u001b[1m467/467\u001b[0m \u001b[32m━━━━━━━━━━━━━━━━━━━━\u001b[0m\u001b[37m\u001b[0m \u001b[1m6s\u001b[0m 9ms/step - accuracy: 0.5166 - loss: 0.6924 - val_accuracy: 0.4981 - val_loss: 0.6941\n",
            "Epoch 6/10\n",
            "\u001b[1m467/467\u001b[0m \u001b[32m━━━━━━━━━━━━━━━━━━━━\u001b[0m\u001b[37m\u001b[0m \u001b[1m4s\u001b[0m 6ms/step - accuracy: 0.5225 - loss: 0.6917 - val_accuracy: 0.5037 - val_loss: 0.6942\n",
            "Epoch 7/10\n",
            "\u001b[1m467/467\u001b[0m \u001b[32m━━━━━━━━━━━━━━━━━━━━\u001b[0m\u001b[37m\u001b[0m \u001b[1m3s\u001b[0m 6ms/step - accuracy: 0.5188 - loss: 0.6919 - val_accuracy: 0.4957 - val_loss: 0.6956\n",
            "Epoch 8/10\n",
            "\u001b[1m467/467\u001b[0m \u001b[32m━━━━━━━━━━━━━━━━━━━━\u001b[0m\u001b[37m\u001b[0m \u001b[1m3s\u001b[0m 7ms/step - accuracy: 0.5252 - loss: 0.6903 - val_accuracy: 0.5011 - val_loss: 0.6938\n",
            "Epoch 9/10\n",
            "\u001b[1m467/467\u001b[0m \u001b[32m━━━━━━━━━━━━━━━━━━━━\u001b[0m\u001b[37m\u001b[0m \u001b[1m4s\u001b[0m 8ms/step - accuracy: 0.5234 - loss: 0.6901 - val_accuracy: 0.5080 - val_loss: 0.6949\n",
            "Epoch 10/10\n",
            "\u001b[1m467/467\u001b[0m \u001b[32m━━━━━━━━━━━━━━━━━━━━\u001b[0m\u001b[37m\u001b[0m \u001b[1m3s\u001b[0m 6ms/step - accuracy: 0.5300 - loss: 0.6900 - val_accuracy: 0.4997 - val_loss: 0.6954\n"
          ]
        }
      ]
    },
    {
      "cell_type": "code",
      "source": [
        "# Evaluate the model\n",
        "y_pred = (model.predict(X_test) > 0.5).astype(\"int32\")\n",
        "print(\"Accuracy:\", accuracy_score(y_test, y_pred))\n",
        "print(classification_report(y_test, y_pred))\n"
      ],
      "metadata": {
        "colab": {
          "base_uri": "https://localhost:8080/"
        },
        "id": "kiUjJeJUEQdv",
        "outputId": "27c4dc80-aafb-439f-c08b-0f813c48d30a"
      },
      "execution_count": 15,
      "outputs": [
        {
          "output_type": "stream",
          "name": "stdout",
          "text": [
            "\u001b[1m146/146\u001b[0m \u001b[32m━━━━━━━━━━━━━━━━━━━━\u001b[0m\u001b[37m\u001b[0m \u001b[1m1s\u001b[0m 3ms/step\n",
            "Accuracy: 0.4980728051391863\n",
            "              precision    recall  f1-score   support\n",
            "\n",
            "           0       0.49      0.63      0.55      2307\n",
            "           1       0.51      0.37      0.43      2363\n",
            "\n",
            "    accuracy                           0.50      4670\n",
            "   macro avg       0.50      0.50      0.49      4670\n",
            "weighted avg       0.50      0.50      0.49      4670\n",
            "\n"
          ]
        }
      ]
    },
    {
      "cell_type": "code",
      "source": [
        "y.value_counts()"
      ],
      "metadata": {
        "colab": {
          "base_uri": "https://localhost:8080/",
          "height": 178
        },
        "id": "G0HhcmjdEiVX",
        "outputId": "8794912b-fc7c-4d3e-a665-1b225eb2feb2"
      },
      "execution_count": 18,
      "outputs": [
        {
          "output_type": "execute_result",
          "data": {
            "text/plain": [
              "cloud_burst\n",
              "1    11686\n",
              "0    11664\n",
              "Name: count, dtype: int64"
            ],
            "text/html": [
              "<div>\n",
              "<style scoped>\n",
              "    .dataframe tbody tr th:only-of-type {\n",
              "        vertical-align: middle;\n",
              "    }\n",
              "\n",
              "    .dataframe tbody tr th {\n",
              "        vertical-align: top;\n",
              "    }\n",
              "\n",
              "    .dataframe thead th {\n",
              "        text-align: right;\n",
              "    }\n",
              "</style>\n",
              "<table border=\"1\" class=\"dataframe\">\n",
              "  <thead>\n",
              "    <tr style=\"text-align: right;\">\n",
              "      <th></th>\n",
              "      <th>count</th>\n",
              "    </tr>\n",
              "    <tr>\n",
              "      <th>cloud_burst</th>\n",
              "      <th></th>\n",
              "    </tr>\n",
              "  </thead>\n",
              "  <tbody>\n",
              "    <tr>\n",
              "      <th>1</th>\n",
              "      <td>11686</td>\n",
              "    </tr>\n",
              "    <tr>\n",
              "      <th>0</th>\n",
              "      <td>11664</td>\n",
              "    </tr>\n",
              "  </tbody>\n",
              "</table>\n",
              "</div><br><label><b>dtype:</b> int64</label>"
            ]
          },
          "metadata": {},
          "execution_count": 18
        }
      ]
    }
  ]
}